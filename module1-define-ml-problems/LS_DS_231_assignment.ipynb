{
  "nbformat": 4,
  "nbformat_minor": 0,
  "metadata": {
    "kernelspec": {
      "display_name": "Python 3",
      "language": "python",
      "name": "python3"
    },
    "language_info": {
      "codemirror_mode": {
        "name": "ipython",
        "version": 3
      },
      "file_extension": ".py",
      "mimetype": "text/x-python",
      "name": "python",
      "nbconvert_exporter": "python",
      "pygments_lexer": "ipython3",
      "version": "3.7.6"
    },
    "colab": {
      "name": "Abdrehim NuruLS_DS_231_assignment.ipynb",
      "provenance": [],
      "include_colab_link": true
    }
  },
  "cells": [
    {
      "cell_type": "markdown",
      "metadata": {
        "id": "view-in-github",
        "colab_type": "text"
      },
      "source": [
        "<a href=\"https://colab.research.google.com/github/abdishifa234/DS-Unit-2-Applied-Modeling/blob/master/module1-define-ml-problems/LS_DS_231_assignment.ipynb\" target=\"_parent\"><img src=\"https://colab.research.google.com/assets/colab-badge.svg\" alt=\"Open In Colab\"/></a>"
      ]
    },
    {
      "cell_type": "markdown",
      "metadata": {
        "id": "nCc3XZEyG3XV"
      },
      "source": [
        "Lambda School Data Science\n",
        "\n",
        "*Unit 2, Sprint 3, Module 1*\n",
        "\n",
        "---\n",
        "\n",
        "\n",
        "# Define ML problems\n",
        "\n",
        "You will use your portfolio project dataset for all assignments this sprint.\n",
        "\n",
        "## Assignment\n",
        "\n",
        "Complete these tasks for your project, and document your decisions.\n",
        "\n",
        "- [ ] Choose your target. Which column in your tabular dataset will you predict?\n",
        "- [ ] Is your problem regression or classification?\n",
        "- [ ] How is your target distributed?\n",
        "    - Classification: How many classes? Are the classes imbalanced?\n",
        "    - Regression: Is the target right-skewed? If so, you may want to log transform the target.\n",
        "- [ ] Choose your evaluation metric(s).\n",
        "    - Classification: Is your majority class frequency >= 50% and < 70% ? If so, you can just use accuracy if you want. Outside that range, accuracy could be misleading. What evaluation metric will you choose, in addition to or instead of accuracy?\n",
        "    - Regression: Will you use mean absolute error, root mean squared error, R^2, or other regression metrics?\n",
        "- [ ] Choose which observations you will use to train, validate, and test your model.\n",
        "    - Are some observations outliers? Will you exclude them?\n",
        "    - Will you do a random split or a time-based split?\n",
        "- [ ] Begin to clean and explore your data.\n",
        "- [ ] Begin to choose which features, if any, to exclude. Would some features \"leak\" future information?\n",
        "\n",
        "If you haven't found a dataset yet, do that today. [Review requirements for your portfolio project](https://lambdaschool.github.io/ds/unit2) and choose your dataset.\n",
        "\n",
        "Some students worry, ***what if my model isn't “good”?*** Then, [produce a detailed tribute to your wrongness. That is science!](https://twitter.com/nathanwpyle/status/1176860147223867393)"
      ]
    },
    {
      "cell_type": "code",
      "metadata": {
        "id": "6FVLXTG6dxHR"
      },
      "source": [
        "%%capture\n",
        "import sys\n",
        "\n",
        "if 'google.colab' in sys.modules:\n",
        "    # Install packages in Colab\n",
        "    !pip install category_encoders==2.*\n",
        "    !pip install pandas-profiling==2.*"
      ],
      "execution_count": 78,
      "outputs": []
    },
    {
      "cell_type": "code",
      "metadata": {
        "id": "Kz-LqqWQdr_i"
      },
      "source": [
        "#import our tools here\n",
        "%matplotlib inline\n",
        "import numpy as np\n",
        "import pandas as pd\n",
        "import matplotlib.pyplot as plt\n",
        "import seaborn as sns\n",
        "\n",
        "import category_encoders as ce\n",
        "from sklearn.impute import SimpleImputer\n",
        "from sklearn.metrics import accuracy_score\n",
        "from sklearn.model_selection import train_test_split\n",
        "from sklearn.pipeline import make_pipeline\n",
        "from sklearn.ensemble import RandomForestClassifier\n",
        "from sklearn.feature_selection import f_regression, SelectKBest\n",
        "from sklearn.preprocessing import StandardScaler\n",
        "from sklearn.metrics import plot_confusion_matrix\n",
        "from sklearn.metrics import r2_score, mean_squared_error"
      ],
      "execution_count": 79,
      "outputs": []
    },
    {
      "cell_type": "code",
      "metadata": {
        "id": "X91LAsmPk7-C",
        "outputId": "eb7a64fd-db71-4bb5-ca7b-4cb58b053dd1",
        "colab": {
          "base_uri": "https://localhost:8080/",
          "height": 17
        }
      },
      "source": [
        "import cufflinks as cf\n",
        "from plotly.offline import download_plotlyjs, init_notebook_mode, plot, iplot\n",
        "init_notebook_mode(connected = True)\n",
        "cf.go_offline()"
      ],
      "execution_count": 80,
      "outputs": [
        {
          "output_type": "display_data",
          "data": {
            "text/html": [
              "        <script type=\"text/javascript\">\n",
              "        window.PlotlyConfig = {MathJaxConfig: 'local'};\n",
              "        if (window.MathJax) {MathJax.Hub.Config({SVG: {font: \"STIX-Web\"}});}\n",
              "        if (typeof require !== 'undefined') {\n",
              "        require.undef(\"plotly\");\n",
              "        requirejs.config({\n",
              "            paths: {\n",
              "                'plotly': ['https://cdn.plot.ly/plotly-latest.min']\n",
              "            }\n",
              "        });\n",
              "        require(['plotly'], function(Plotly) {\n",
              "            window._Plotly = Plotly;\n",
              "        });\n",
              "        }\n",
              "        </script>\n",
              "        "
            ]
          },
          "metadata": {
            "tags": []
          }
        },
        {
          "output_type": "display_data",
          "data": {
            "text/html": [
              "        <script type=\"text/javascript\">\n",
              "        window.PlotlyConfig = {MathJaxConfig: 'local'};\n",
              "        if (window.MathJax) {MathJax.Hub.Config({SVG: {font: \"STIX-Web\"}});}\n",
              "        if (typeof require !== 'undefined') {\n",
              "        require.undef(\"plotly\");\n",
              "        requirejs.config({\n",
              "            paths: {\n",
              "                'plotly': ['https://cdn.plot.ly/plotly-latest.min']\n",
              "            }\n",
              "        });\n",
              "        require(['plotly'], function(Plotly) {\n",
              "            window._Plotly = Plotly;\n",
              "        });\n",
              "        }\n",
              "        </script>\n",
              "        "
            ]
          },
          "metadata": {
            "tags": []
          }
        }
      ]
    },
    {
      "cell_type": "code",
      "metadata": {
        "id": "TyqCuUwnlEBT"
      },
      "source": [
        "import plotly.io as pio\n",
        "pio.renderers.default = 'colab'"
      ],
      "execution_count": 81,
      "outputs": []
    },
    {
      "cell_type": "code",
      "metadata": {
        "id": "2G-TOHLllKOP",
        "outputId": "d6bf5b57-4b12-4a9e-d1fa-a342101b630c",
        "colab": {
          "base_uri": "https://localhost:8080/",
          "height": 34
        }
      },
      "source": [
        "from google.colab import drive\n",
        "drive.mount('/content/drive',force_remount=True)"
      ],
      "execution_count": 82,
      "outputs": [
        {
          "output_type": "stream",
          "text": [
            "Mounted at /content/drive\n"
          ],
          "name": "stdout"
        }
      ]
    },
    {
      "cell_type": "markdown",
      "metadata": {
        "id": "ajJiisQ7eCHw"
      },
      "source": [
        "###Load the dataset"
      ]
    },
    {
      "cell_type": "code",
      "metadata": {
        "id": "F1RFmVVDd_ev",
        "outputId": "1de35a95-232d-427d-ff82-ad7bbefeacb9",
        "colab": {
          "base_uri": "https://localhost:8080/",
          "height": 153
        }
      },
      "source": [
        "!pip install gdown"
      ],
      "execution_count": 83,
      "outputs": [
        {
          "output_type": "stream",
          "text": [
            "Requirement already satisfied: gdown in /usr/local/lib/python3.6/dist-packages (3.6.4)\n",
            "Requirement already satisfied: requests in /usr/local/lib/python3.6/dist-packages (from gdown) (2.23.0)\n",
            "Requirement already satisfied: tqdm in /usr/local/lib/python3.6/dist-packages (from gdown) (4.50.0)\n",
            "Requirement already satisfied: six in /usr/local/lib/python3.6/dist-packages (from gdown) (1.15.0)\n",
            "Requirement already satisfied: certifi>=2017.4.17 in /usr/local/lib/python3.6/dist-packages (from requests->gdown) (2020.6.20)\n",
            "Requirement already satisfied: chardet<4,>=3.0.2 in /usr/local/lib/python3.6/dist-packages (from requests->gdown) (3.0.4)\n",
            "Requirement already satisfied: idna<3,>=2.5 in /usr/local/lib/python3.6/dist-packages (from requests->gdown) (2.10)\n",
            "Requirement already satisfied: urllib3!=1.25.0,!=1.25.1,<1.26,>=1.21.1 in /usr/local/lib/python3.6/dist-packages (from requests->gdown) (1.24.3)\n"
          ],
          "name": "stdout"
        }
      ]
    },
    {
      "cell_type": "code",
      "metadata": {
        "id": "njZxcFtod_4c",
        "outputId": "c9a888b2-ac33-48cc-f302-ab30c5db9683",
        "colab": {
          "base_uri": "https://localhost:8080/",
          "height": 85
        }
      },
      "source": [
        "!gdown https://drive.google.com/uc?id=1y0TtYEjkkyuEczM-Jgu6FQfHv1PxOfVG"
      ],
      "execution_count": 84,
      "outputs": [
        {
          "output_type": "stream",
          "text": [
            "Downloading...\n",
            "From: https://drive.google.com/uc?id=1y0TtYEjkkyuEczM-Jgu6FQfHv1PxOfVG\n",
            "To: /content/archive.zip\n",
            "\r0.00B [00:00, ?B/s]\r4.72MB [00:00, 35.4MB/s]\r15.5MB [00:00, 72.3MB/s]\n"
          ],
          "name": "stdout"
        }
      ]
    },
    {
      "cell_type": "code",
      "metadata": {
        "id": "-oDS5ZHtd_7a",
        "outputId": "a7dd18b8-22c2-4d11-d85c-16713a69ad71",
        "colab": {
          "base_uri": "https://localhost:8080/",
          "height": 204
        }
      },
      "source": [
        "!unzip /content/archive.zip"
      ],
      "execution_count": 85,
      "outputs": [
        {
          "output_type": "stream",
          "text": [
            "Archive:  /content/archive.zip\n",
            "replace 2014_Financial_Data.csv? [y]es, [n]o, [A]ll, [N]one, [r]ename: y\n",
            "  inflating: 2014_Financial_Data.csv  \n",
            "replace 2015_Financial_Data.csv? [y]es, [n]o, [A]ll, [N]one, [r]ename: y\n",
            "  inflating: 2015_Financial_Data.csv  \n",
            "replace 2016_Financial_Data.csv? [y]es, [n]o, [A]ll, [N]one, [r]ename: y\n",
            "  inflating: 2016_Financial_Data.csv  \n",
            "replace 2017_Financial_Data.csv? [y]es, [n]o, [A]ll, [N]one, [r]ename: y\n",
            "  inflating: 2017_Financial_Data.csv  \n",
            "replace 2018_Financial_Data.csv? [y]es, [n]o, [A]ll, [N]one, [r]ename: y\n",
            "  inflating: 2018_Financial_Data.csv  \n"
          ],
          "name": "stdout"
        }
      ]
    },
    {
      "cell_type": "code",
      "metadata": {
        "id": "VAy6ouHYlqNP",
        "outputId": "d8607914-87ef-49d8-84d6-c8f49a1f4d93",
        "colab": {
          "base_uri": "https://localhost:8080/",
          "height": 34
        }
      },
      "source": [
        "#I have a five year dataset for the display purpose lets read\n",
        "# Upload datasets and check their shape\n",
        "pd.options.display.float_format = '{:,.0f}'.format\n",
        "df_2014 = pd.read_csv('/content/2014_Financial_Data.csv')\n",
        "df_2015 = pd.read_csv('/content/2015_Financial_Data.csv')\n",
        "df_2016 = pd.read_csv('/content/2016_Financial_Data.csv')\n",
        "df_2017 = pd.read_csv('/content/2017_Financial_Data.csv')\n",
        "df_2018 = pd.read_csv('/content/2018_Financial_Data.csv')\n",
        "\n",
        "df_2014.shape,df_2015.shape,df_2016.shape,df_2017.shape,df_2018.shape"
      ],
      "execution_count": 118,
      "outputs": [
        {
          "output_type": "execute_result",
          "data": {
            "text/plain": [
              "((3808, 225), (4120, 225), (4797, 225), (4960, 225), (4392, 225))"
            ]
          },
          "metadata": {
            "tags": []
          },
          "execution_count": 118
        }
      ]
    },
    {
      "cell_type": "markdown",
      "metadata": {
        "id": "EAjc5ucBnH1R"
      },
      "source": [
        "#Begin to clean and explore your data.\n",
        "Begin to choose which features, if any, to exclude. Would some features \"leak\" future information?"
      ]
    },
    {
      "cell_type": "code",
      "metadata": {
        "id": "FcY5rD6unTkL"
      },
      "source": [
        "#write a function that rangles the dataframes\n",
        "def wrangle(x):\n",
        " \n",
        "  #renaming the 'Unamed:0' column\n",
        "  x.rename(columns={'Unnamed: 0':'Company Name'},inplace=True)\n",
        "  #replacing nan values with zero\n",
        "  x.replace(np.nan, 0)\n",
        "\n",
        "  x.drop(x[x['Total assets'] ==0].index, inplace = True) \n",
        "  x.drop(x[x['Revenue'] ==0].index, inplace = True) \n",
        "\n",
        "  # feature enginering to creat meaningful featutes that determenes stock price\n",
        "  x['Total Asset Turnover Ratio'] = x['Revenue'] / x['Total assets']\n",
        "  x['Gross Margin Ratio'] = x['Gross Margin'] / x['Revenue']\n",
        "  x['Net Profit Ratio'] = x['Net Profit Margin']/x['Revenue']\n",
        "  x['Return on Total Assets Ratio'] = x['Net Income']/x['Total assets']\n",
        "\n",
        "  #feature selection\n",
        "  features = ['Company Name', 'currentRatio','quickRatio', 'Free Cash Flow margin','debtRatio', 'debtEquityRatio',\n",
        "              'cashFlowToDebtRatio','Return on Tangible Assets','Total Asset Turnover Ratio',\n",
        "              'Return on Total Assets Ratio','ROE','Gross Margin Ratio',\n",
        "              'Net Profit Ratio', 'EPS','EPS Diluted','PE ratio', 'PB ratio','priceEarningsToGrowthRatio', 'Sector','Class']\n",
        "  x = x[features]\n",
        "\n",
        "  return x\n"
      ],
      "execution_count": 119,
      "outputs": []
    },
    {
      "cell_type": "code",
      "metadata": {
        "id": "6U-HfvKgpcC1",
        "outputId": "8da6e79d-3668-4be5-cb79-3c988008ad80",
        "colab": {
          "base_uri": "https://localhost:8080/",
          "height": 34
        }
      },
      "source": [
        "#lets wrangle each dataset and rename our targets which is PriceVar[%]\n",
        "df2018 = wrangle(df_2018)\n",
        "df2018['StockPriceVar'] = df_2018['2019 PRICE VAR [%]']\n",
        "df2017 = wrangle(df_2017)\n",
        "df2017['StockPriceVar'] = df_2017['2018 PRICE VAR [%]']\n",
        "df2016 = wrangle(df_2016)\n",
        "df2016['StockPriceVar'] = df_2016['2017 PRICE VAR [%]']\n",
        "df2015 = wrangle(df_2015)\n",
        "df2015['StockPriceVar'] = df_2015['2016 PRICE VAR [%]']\n",
        "df2014 = wrangle(df_2014)\n",
        "df2014['StockPriceVar'] = df_2014['2015 PRICE VAR [%]']\n",
        "df2018.shape, df2017.shape, df2016.shape, df2015.shape, df2014.shape"
      ],
      "execution_count": 146,
      "outputs": [
        {
          "output_type": "execute_result",
          "data": {
            "text/plain": [
              "((4194, 21), (4756, 21), (4588, 21), (3940, 21), (3637, 21))"
            ]
          },
          "metadata": {
            "tags": []
          },
          "execution_count": 146
        }
      ]
    },
    {
      "cell_type": "markdown",
      "metadata": {
        "id": "xbRYJDc6at0B"
      },
      "source": [
        "#Choose which observations you will use to train, validate, and test your model.\n",
        "\n",
        "Are some observations outliers? Will you exclude them?\n",
        "\n",
        "Will you do a random split or a time-based split?\n",
        "\n",
        "The dataset is a time series so it should be splitted based on time but these datas are a 5 year annual csv data and I will use the first three year/2014-2016/ for training,2017 for validation and 2018 for testing dataset"
      ]
    },
    {
      "cell_type": "code",
      "metadata": {
        "id": "NDpM7VF6Pumb",
        "outputId": "f23d9159-938a-4c65-95d5-24cb87024d55",
        "colab": {
          "base_uri": "https://localhost:8080/",
          "height": 34
        }
      },
      "source": [
        "#Option2\n",
        "#lets arrange our train,val and testing dataset\n",
        "\n",
        "#use 2014 to 2016 data for training\n",
        "train = pd.concat([df2014,df2015,df2016],sort=False).drop_duplicates().sample(frac=1)\n",
        "\n",
        "# train=pd.merge(pd.merge(df2014,df2015,on='Company Name'),df2016,on='Company Name')\n",
        "\n",
        "#use 2017 data for validation\n",
        "val=df2017\n",
        "\n",
        "\n",
        "#use 2017 data for validation\n",
        "test=df2018\n",
        "\n",
        "\n",
        "#lets check the shape of our train,val and test dataset\n",
        "train.shape,val.shape,test.shape"
      ],
      "execution_count": 147,
      "outputs": [
        {
          "output_type": "execute_result",
          "data": {
            "text/plain": [
              "((12165, 21), (4756, 21), (4194, 21))"
            ]
          },
          "metadata": {
            "tags": []
          },
          "execution_count": 147
        }
      ]
    },
    {
      "cell_type": "code",
      "metadata": {
        "id": "koapGz4hZQwU",
        "outputId": "b5b33ce3-c049-4795-ae58-411d51fe66d4",
        "colab": {
          "base_uri": "https://localhost:8080/",
          "height": 319
        }
      },
      "source": [
        "train.head()"
      ],
      "execution_count": 151,
      "outputs": [
        {
          "output_type": "execute_result",
          "data": {
            "text/html": [
              "<div>\n",
              "<style scoped>\n",
              "    .dataframe tbody tr th:only-of-type {\n",
              "        vertical-align: middle;\n",
              "    }\n",
              "\n",
              "    .dataframe tbody tr th {\n",
              "        vertical-align: top;\n",
              "    }\n",
              "\n",
              "    .dataframe thead th {\n",
              "        text-align: right;\n",
              "    }\n",
              "</style>\n",
              "<table border=\"1\" class=\"dataframe\">\n",
              "  <thead>\n",
              "    <tr style=\"text-align: right;\">\n",
              "      <th></th>\n",
              "      <th>Company Name</th>\n",
              "      <th>currentRatio</th>\n",
              "      <th>quickRatio</th>\n",
              "      <th>Free Cash Flow margin</th>\n",
              "      <th>debtRatio</th>\n",
              "      <th>debtEquityRatio</th>\n",
              "      <th>cashFlowToDebtRatio</th>\n",
              "      <th>Return on Tangible Assets</th>\n",
              "      <th>Total Asset Turnover Ratio</th>\n",
              "      <th>Return on Total Assets Ratio</th>\n",
              "      <th>ROE</th>\n",
              "      <th>Gross Margin Ratio</th>\n",
              "      <th>Net Profit Ratio</th>\n",
              "      <th>EPS</th>\n",
              "      <th>EPS Diluted</th>\n",
              "      <th>PE ratio</th>\n",
              "      <th>PB ratio</th>\n",
              "      <th>priceEarningsToGrowthRatio</th>\n",
              "      <th>Sector</th>\n",
              "      <th>Class</th>\n",
              "      <th>StockPriceVar</th>\n",
              "    </tr>\n",
              "  </thead>\n",
              "  <tbody>\n",
              "    <tr>\n",
              "      <th>112</th>\n",
              "      <td>IMKTA</td>\n",
              "      <td>2</td>\n",
              "      <td>0</td>\n",
              "      <td>0</td>\n",
              "      <td>1</td>\n",
              "      <td>2</td>\n",
              "      <td>0</td>\n",
              "      <td>0</td>\n",
              "      <td>2</td>\n",
              "      <td>0</td>\n",
              "      <td>0</td>\n",
              "      <td>0</td>\n",
              "      <td>0</td>\n",
              "      <td>3</td>\n",
              "      <td>3</td>\n",
              "      <td>15</td>\n",
              "      <td>2</td>\n",
              "      <td>14</td>\n",
              "      <td>Consumer Defensive</td>\n",
              "      <td>1</td>\n",
              "      <td>28</td>\n",
              "    </tr>\n",
              "    <tr>\n",
              "      <th>1831</th>\n",
              "      <td>NAV</td>\n",
              "      <td>1</td>\n",
              "      <td>1</td>\n",
              "      <td>0</td>\n",
              "      <td>1</td>\n",
              "      <td>-1</td>\n",
              "      <td>0</td>\n",
              "      <td>-0</td>\n",
              "      <td>1</td>\n",
              "      <td>-0</td>\n",
              "      <td>0</td>\n",
              "      <td>0</td>\n",
              "      <td>-0</td>\n",
              "      <td>-1</td>\n",
              "      <td>-1</td>\n",
              "      <td>0</td>\n",
              "      <td>0</td>\n",
              "      <td>nan</td>\n",
              "      <td>Industrials</td>\n",
              "      <td>1</td>\n",
              "      <td>35</td>\n",
              "    </tr>\n",
              "    <tr>\n",
              "      <th>2278</th>\n",
              "      <td>CXP</td>\n",
              "      <td>5</td>\n",
              "      <td>2</td>\n",
              "      <td>2</td>\n",
              "      <td>0</td>\n",
              "      <td>1</td>\n",
              "      <td>0</td>\n",
              "      <td>nan</td>\n",
              "      <td>0</td>\n",
              "      <td>0</td>\n",
              "      <td>0</td>\n",
              "      <td>0</td>\n",
              "      <td>0</td>\n",
              "      <td>1</td>\n",
              "      <td>1</td>\n",
              "      <td>32</td>\n",
              "      <td>1</td>\n",
              "      <td>29</td>\n",
              "      <td>Real Estate</td>\n",
              "      <td>1</td>\n",
              "      <td>10</td>\n",
              "    </tr>\n",
              "    <tr>\n",
              "      <th>4167</th>\n",
              "      <td>AMAT</td>\n",
              "      <td>2</td>\n",
              "      <td>2</td>\n",
              "      <td>0</td>\n",
              "      <td>0</td>\n",
              "      <td>0</td>\n",
              "      <td>1</td>\n",
              "      <td>0</td>\n",
              "      <td>1</td>\n",
              "      <td>0</td>\n",
              "      <td>0</td>\n",
              "      <td>0</td>\n",
              "      <td>0</td>\n",
              "      <td>2</td>\n",
              "      <td>2</td>\n",
              "      <td>19</td>\n",
              "      <td>4</td>\n",
              "      <td>18</td>\n",
              "      <td>Technology</td>\n",
              "      <td>1</td>\n",
              "      <td>62</td>\n",
              "    </tr>\n",
              "    <tr>\n",
              "      <th>4356</th>\n",
              "      <td>FSCT</td>\n",
              "      <td>1</td>\n",
              "      <td>1</td>\n",
              "      <td>-0</td>\n",
              "      <td>0</td>\n",
              "      <td>-0</td>\n",
              "      <td>-1</td>\n",
              "      <td>-1</td>\n",
              "      <td>1</td>\n",
              "      <td>-0</td>\n",
              "      <td>0</td>\n",
              "      <td>0</td>\n",
              "      <td>-0</td>\n",
              "      <td>-12</td>\n",
              "      <td>-12</td>\n",
              "      <td>0</td>\n",
              "      <td>0</td>\n",
              "      <td>nan</td>\n",
              "      <td>Technology</td>\n",
              "      <td>1</td>\n",
              "      <td>27</td>\n",
              "    </tr>\n",
              "  </tbody>\n",
              "</table>\n",
              "</div>"
            ],
            "text/plain": [
              "     Company Name  currentRatio  ...  Class  StockPriceVar\n",
              "112         IMKTA             2  ...      1             28\n",
              "1831          NAV             1  ...      1             35\n",
              "2278          CXP             5  ...      1             10\n",
              "4167         AMAT             2  ...      1             62\n",
              "4356         FSCT             1  ...      1             27\n",
              "\n",
              "[5 rows x 21 columns]"
            ]
          },
          "metadata": {
            "tags": []
          },
          "execution_count": 151
        }
      ]
    },
    {
      "cell_type": "markdown",
      "metadata": {
        "id": "gj-8WbPTetcT"
      },
      "source": [
        "#Choose your target. Which column in your tabular dataset will you predict?"
      ]
    },
    {
      "cell_type": "markdown",
      "metadata": {
        "id": "-ogffBhpjpiB"
      },
      "source": [
        "###Notes from the Data Source\n",
        "\n",
        "1.\tThe second-to-last column, PRICE VAR [%], lists the percent price variation of each stock for the year. For example, if we consider the dataset 2015_Financial_Data.csv, we will have:\n",
        "o\t200+ financial indicators for the year 2015;\n",
        "o\tpercent price variation for the year 2016 (meaning from the first trading day on Jan 2016 to the last trading day on Dec 2016).\n",
        "\t\n",
        "2.\tThe last column, class, lists a binary classification for each stock, where\n",
        "0\tfor each stock, if the PRICE VAR [%] value is positive, class = 1. From a trading perspective, the 1 identifies those stocks that an hypothetical trader should BUY at the start of the year and sell at the end of the year for a profit.\n",
        "0\tfor each stock, if the PRICE VAR [%] value is negative, class = 0. From a trading perspective, the 0 identifies those stocks that an hypothetical trader should NOT BUY, since their value will decrease, meaning a loss of capital.\n",
        "The columns PRICE VAR [%] and class make possible to use the datasets for both classification and regression tasks:\n",
        "\t\n",
        "•\tIf the user wishes to train a machine learning model so that it learns to classify those stocks that in buy-worthy and not buy-worthy, it is possible to get the targets from the class column;\n",
        "•\tIf the user wishes to train a machine learning model so that it learns to predict the future value of a stock, it is possible to get the targets from the PRICE VAR [%] column.\n",
        "\n",
        "\n",
        "\n",
        "###So in this dataset, I have two potential targets,these are \"Price Var[%]\" and \"class\" columns.\n",
        "\n"
      ]
    },
    {
      "cell_type": "markdown",
      "metadata": {
        "id": "PW0ZhUQXkz3M"
      },
      "source": [
        "#Is your problem regression or classification?\n",
        "\n",
        "\n",
        "###So my plan is to use:\n",
        "\n",
        "1. \"Price Var[%]\" for a regression problem b/c it is a countinues variable in order to predict the future value of the stock using linear regression models\n",
        "\n",
        "2. \"Class\" for a classification problem b/c it is a categorical variable  in order to classify those stocks that are buy-worthy and not buy-worthy using classification models."
      ]
    },
    {
      "cell_type": "code",
      "metadata": {
        "id": "QuAhHsD-rD-K",
        "outputId": "9aff4b17-d609-44fe-80ee-536dce0c4aae",
        "colab": {
          "base_uri": "https://localhost:8080/",
          "height": 302
        }
      },
      "source": [
        "#lets take 2018 dataset\n",
        "df2018.head()"
      ],
      "execution_count": 91,
      "outputs": [
        {
          "output_type": "execute_result",
          "data": {
            "text/html": [
              "<div>\n",
              "<style scoped>\n",
              "    .dataframe tbody tr th:only-of-type {\n",
              "        vertical-align: middle;\n",
              "    }\n",
              "\n",
              "    .dataframe tbody tr th {\n",
              "        vertical-align: top;\n",
              "    }\n",
              "\n",
              "    .dataframe thead th {\n",
              "        text-align: right;\n",
              "    }\n",
              "</style>\n",
              "<table border=\"1\" class=\"dataframe\">\n",
              "  <thead>\n",
              "    <tr style=\"text-align: right;\">\n",
              "      <th></th>\n",
              "      <th>Company Name</th>\n",
              "      <th>currentRatio</th>\n",
              "      <th>quickRatio</th>\n",
              "      <th>Free Cash Flow margin</th>\n",
              "      <th>debtRatio</th>\n",
              "      <th>debtEquityRatio</th>\n",
              "      <th>cashFlowToDebtRatio</th>\n",
              "      <th>Return on Tangible Assets</th>\n",
              "      <th>Total Asset Turnover Ratio</th>\n",
              "      <th>Return on Total Assets Ratio</th>\n",
              "      <th>ROE</th>\n",
              "      <th>Gross Margin Ratio</th>\n",
              "      <th>Net Profit Ratio</th>\n",
              "      <th>EPS</th>\n",
              "      <th>EPS Diluted</th>\n",
              "      <th>PE ratio</th>\n",
              "      <th>PB ratio</th>\n",
              "      <th>priceEarningsToGrowthRatio</th>\n",
              "      <th>Sector</th>\n",
              "      <th>Class</th>\n",
              "      <th>2019StockPriceVar</th>\n",
              "    </tr>\n",
              "  </thead>\n",
              "  <tbody>\n",
              "    <tr>\n",
              "      <th>0</th>\n",
              "      <td>CMCSA</td>\n",
              "      <td>1</td>\n",
              "      <td>1</td>\n",
              "      <td>0</td>\n",
              "      <td>0</td>\n",
              "      <td>2</td>\n",
              "      <td>0</td>\n",
              "      <td>0</td>\n",
              "      <td>0</td>\n",
              "      <td>0</td>\n",
              "      <td>0</td>\n",
              "      <td>0</td>\n",
              "      <td>0</td>\n",
              "      <td>3</td>\n",
              "      <td>3</td>\n",
              "      <td>13</td>\n",
              "      <td>2</td>\n",
              "      <td>13</td>\n",
              "      <td>Consumer Cyclical</td>\n",
              "      <td>1</td>\n",
              "      <td>33</td>\n",
              "    </tr>\n",
              "    <tr>\n",
              "      <th>1</th>\n",
              "      <td>KMI</td>\n",
              "      <td>1</td>\n",
              "      <td>1</td>\n",
              "      <td>0</td>\n",
              "      <td>0</td>\n",
              "      <td>1</td>\n",
              "      <td>0</td>\n",
              "      <td>0</td>\n",
              "      <td>0</td>\n",
              "      <td>0</td>\n",
              "      <td>0</td>\n",
              "      <td>0</td>\n",
              "      <td>0</td>\n",
              "      <td>1</td>\n",
              "      <td>1</td>\n",
              "      <td>23</td>\n",
              "      <td>1</td>\n",
              "      <td>21</td>\n",
              "      <td>Energy</td>\n",
              "      <td>1</td>\n",
              "      <td>41</td>\n",
              "    </tr>\n",
              "    <tr>\n",
              "      <th>2</th>\n",
              "      <td>INTC</td>\n",
              "      <td>2</td>\n",
              "      <td>1</td>\n",
              "      <td>0</td>\n",
              "      <td>0</td>\n",
              "      <td>0</td>\n",
              "      <td>1</td>\n",
              "      <td>0</td>\n",
              "      <td>1</td>\n",
              "      <td>0</td>\n",
              "      <td>0</td>\n",
              "      <td>0</td>\n",
              "      <td>0</td>\n",
              "      <td>5</td>\n",
              "      <td>4</td>\n",
              "      <td>10</td>\n",
              "      <td>3</td>\n",
              "      <td>10</td>\n",
              "      <td>Technology</td>\n",
              "      <td>1</td>\n",
              "      <td>30</td>\n",
              "    </tr>\n",
              "    <tr>\n",
              "      <th>3</th>\n",
              "      <td>MU</td>\n",
              "      <td>3</td>\n",
              "      <td>2</td>\n",
              "      <td>0</td>\n",
              "      <td>0</td>\n",
              "      <td>0</td>\n",
              "      <td>4</td>\n",
              "      <td>0</td>\n",
              "      <td>1</td>\n",
              "      <td>0</td>\n",
              "      <td>0</td>\n",
              "      <td>0</td>\n",
              "      <td>0</td>\n",
              "      <td>12</td>\n",
              "      <td>12</td>\n",
              "      <td>4</td>\n",
              "      <td>2</td>\n",
              "      <td>4</td>\n",
              "      <td>Technology</td>\n",
              "      <td>1</td>\n",
              "      <td>64</td>\n",
              "    </tr>\n",
              "    <tr>\n",
              "      <th>4</th>\n",
              "      <td>GE</td>\n",
              "      <td>2</td>\n",
              "      <td>1</td>\n",
              "      <td>0</td>\n",
              "      <td>0</td>\n",
              "      <td>3</td>\n",
              "      <td>0</td>\n",
              "      <td>nan</td>\n",
              "      <td>0</td>\n",
              "      <td>-0</td>\n",
              "      <td>-1</td>\n",
              "      <td>0</td>\n",
              "      <td>-0</td>\n",
              "      <td>-3</td>\n",
              "      <td>-3</td>\n",
              "      <td>0</td>\n",
              "      <td>2</td>\n",
              "      <td>nan</td>\n",
              "      <td>Industrials</td>\n",
              "      <td>1</td>\n",
              "      <td>45</td>\n",
              "    </tr>\n",
              "  </tbody>\n",
              "</table>\n",
              "</div>"
            ],
            "text/plain": [
              "  Company Name  currentRatio  ...  Class  2019StockPriceVar\n",
              "0        CMCSA             1  ...      1                 33\n",
              "1          KMI             1  ...      1                 41\n",
              "2         INTC             2  ...      1                 30\n",
              "3           MU             3  ...      1                 64\n",
              "4           GE             2  ...      1                 45\n",
              "\n",
              "[5 rows x 21 columns]"
            ]
          },
          "metadata": {
            "tags": []
          },
          "execution_count": 91
        }
      ]
    },
    {
      "cell_type": "markdown",
      "metadata": {
        "id": "k1XC0YMvmn-X"
      },
      "source": [
        "#How is your target distributed?\n",
        "Classification: How many classes? Are the classes imbalanced?\n",
        "\n"
      ]
    },
    {
      "cell_type": "code",
      "metadata": {
        "id": "MKGgGa1HxQhP",
        "outputId": "ba942420-d055-4ef1-9ede-b4933e059a8b",
        "colab": {
          "base_uri": "https://localhost:8080/",
          "height": 68
        }
      },
      "source": [
        "#Lets start with the baseline\n",
        "target='Class'\n",
        "y_train=df2018[target]\n",
        "\n",
        "#see our baseline or majority class of the target Class\n",
        "df2018['Class'].value_counts()"
      ],
      "execution_count": 92,
      "outputs": [
        {
          "output_type": "execute_result",
          "data": {
            "text/plain": [
              "1    2953\n",
              "0    1241\n",
              "Name: Class, dtype: int64"
            ]
          },
          "metadata": {
            "tags": []
          },
          "execution_count": 92
        }
      ]
    },
    {
      "cell_type": "code",
      "metadata": {
        "id": "taamITYgeAEh",
        "outputId": "3ed1faea-c799-49fb-da64-ba835dbff1b7",
        "colab": {
          "base_uri": "https://localhost:8080/",
          "height": 374
        }
      },
      "source": [
        "# Plot class distribution\n",
        "df_class = df['Class'].value_counts(normalize=True)\n",
        "sns.barplot(np.arange(len(df_class)), df_class)\n",
        "plt.title('Class Counts', fontsize=20)\n",
        "plt.show()"
      ],
      "execution_count": 93,
      "outputs": [
        {
          "output_type": "stream",
          "text": [
            "/usr/local/lib/python3.6/dist-packages/seaborn/_decorators.py:43: FutureWarning:\n",
            "\n",
            "Pass the following variables as keyword args: x, y. From version 0.12, the only valid positional argument will be `data`, and passing other arguments without an explicit keyword will result in an error or misinterpretation.\n",
            "\n"
          ],
          "name": "stderr"
        },
        {
          "output_type": "display_data",
          "data": {
            "image/png": "[encoded data removed]",
            "text/plain": [
              "<Figure size 432x288 with 1 Axes>"
            ]
          },
          "metadata": {
            "tags": [],
            "needs_background": "light"
          }
        }
      ]
    },
    {
      "cell_type": "markdown",
      "metadata": {
        "id": "v4h6o-fkASWU"
      },
      "source": [
        "Regression: Is the target right-skewed? If so, you may want to log transform the target."
      ]
    },
    {
      "cell_type": "code",
      "metadata": {
        "id": "D4qeXwcbecXK",
        "outputId": "7a04be90-2cfc-4451-88b9-7338c6995a77",
        "colab": {
          "base_uri": "https://localhost:8080/",
          "height": 170
        }
      },
      "source": [
        "#lets see the regrssion problem targets\n",
        "#check for outliers for the targets for regression problem\n",
        "df2018['2019StockPriceVar'].describe()"
      ],
      "execution_count": 94,
      "outputs": [
        {
          "output_type": "execute_result",
          "data": {
            "text/plain": [
              "count   4,194\n",
              "mean       21\n",
              "std        59\n",
              "min      -100\n",
              "25%        -6\n",
              "50%        18\n",
              "75%        40\n",
              "max     1,286\n",
              "Name: 2019StockPriceVar, dtype: float64"
            ]
          },
          "metadata": {
            "tags": []
          },
          "execution_count": 94
        }
      ]
    },
    {
      "cell_type": "code",
      "metadata": {
        "id": "F9eC6rzlu6Qg"
      },
      "source": [
        "#lets get ride off price varation greater than 500\n",
        "df_outlier = df2018.copy()\n",
        "df_outlier.drop(df_outlier[df_outlier['2019StockPriceVar'] > 500].index, inplace = True)"
      ],
      "execution_count": 95,
      "outputs": []
    },
    {
      "cell_type": "code",
      "metadata": {
        "id": "HGhg_YYmuX4r",
        "outputId": "048524cc-3c26-4931-ee89-ca66c042db7b",
        "colab": {
          "base_uri": "https://localhost:8080/",
          "height": 367
        }
      },
      "source": [
        "# the target is right-skewed\n",
        "sns.distplot(df2018['2019StockPriceVar']);"
      ],
      "execution_count": 96,
      "outputs": [
        {
          "output_type": "stream",
          "text": [
            "/usr/local/lib/python3.6/dist-packages/seaborn/distributions.py:2551: FutureWarning:\n",
            "\n",
            "`distplot` is a deprecated function and will be removed in a future version. Please adapt your code to use either `displot` (a figure-level function with similar flexibility) or `histplot` (an axes-level function for histograms).\n",
            "\n"
          ],
          "name": "stderr"
        },
        {
          "output_type": "display_data",
          "data": {
            "image/png": "[encoded data removed]",
            "text/plain": [
              "<Figure size 432x288 with 1 Axes>"
            ]
          },
          "metadata": {
            "tags": [],
            "needs_background": "light"
          }
        }
      ]
    },
    {
      "cell_type": "markdown",
      "metadata": {
        "id": "ReAgdLPhx3E1"
      },
      "source": [
        "#Choose your evaluation metric(s).\n",
        "\n",
        "Classification: Is your majority class frequency >= 50% and < 70% ? If so, you can just use accuracy if you want. Outside that range, accuracy could be misleading. What evaluation metric will you choose, in addition to or instead of accuracy?\n",
        "\n",
        "\n",
        "\n",
        "###So from the above distribution,I have only two class and there is no class imbalance problem since the majority class frequency is b/n 50% and 70%."
      ]
    },
    {
      "cell_type": "code",
      "metadata": {
        "id": "rEtuNM3VuYNs",
        "outputId": "035a9954-532b-4673-9f7f-551c77b9f83b",
        "colab": {
          "base_uri": "https://localhost:8080/",
          "height": 34
        }
      },
      "source": [
        "#lets see the baseline accuracy of our prediction\n",
        "majority_class = y_train.mode()[0]\n",
        "y_pred = [majority_class] * len(y_train)\n",
        "\n",
        "# lets calculate the majority class accuracy \n",
        "accuracy_score(y_train, y_pred)"
      ],
      "execution_count": 97,
      "outputs": [
        {
          "output_type": "execute_result",
          "data": {
            "text/plain": [
              "0.7041010968049595"
            ]
          },
          "metadata": {
            "tags": []
          },
          "execution_count": 97
        }
      ]
    },
    {
      "cell_type": "markdown",
      "metadata": {
        "id": "4auOOa89yQSr"
      },
      "source": [
        "\n",
        "Regression: Will you use mean absolute error, root mean squared error, R^2, or other regression metrics?\n",
        "\n",
        "\n",
        "Yes, for evaluting the regression,I will use MAE and RMSE"
      ]
    },
    {
      "cell_type": "code",
      "metadata": {
        "id": "yzw9C21decaQ"
      },
      "source": [
        "#arranging the y target vectors\n",
        "target='2019StockPriceVar'\n",
        "y_train=df2018[target]"
      ],
      "execution_count": 98,
      "outputs": []
    },
    {
      "cell_type": "code",
      "metadata": {
        "id": "Suti_svVuMza",
        "outputId": "5cc5ec70-3512-4b5a-9e36-239742e06ed2",
        "colab": {
          "base_uri": "https://localhost:8080/",
          "height": 51
        }
      },
      "source": [
        "#Lets make first baseline for our target PRICE VAR[%]\n",
        "print('Mean baseline(using 0 features)')\n",
        "baseline=y_train.mean()\n",
        "print(baseline)"
      ],
      "execution_count": 99,
      "outputs": [
        {
          "output_type": "stream",
          "text": [
            "Mean baseline(using 0 features)\n",
            "20.60681203287186\n"
          ],
          "name": "stdout"
        }
      ]
    },
    {
      "cell_type": "code",
      "metadata": {
        "id": "JlZgSIPAecdI",
        "outputId": "3df0fdc6-dad8-46b2-b492-4cd3fb7e5869",
        "colab": {
          "base_uri": "https://localhost:8080/",
          "height": 85
        }
      },
      "source": [
        "#lets see the MAE,RMSE and R2 for the baseline\n",
        "from sklearn.metrics import mean_absolute_error,r2_score\n",
        "mse = mean_squared_error(y_train, y_pred)\n",
        "rmse = np.sqrt(mse)\n",
        "mae=mean_absolute_error(y_train,y_pred)\n",
        "r2 = r2_score(y_train, y_pred)\n",
        "print(mse)\n",
        "print(rmse)\n",
        "print(mae)\n",
        "print(r2)"
      ],
      "execution_count": 100,
      "outputs": [
        {
          "output_type": "stream",
          "text": [
            "3873.1220923121477\n",
            "62.23441244450009\n",
            "38.19300273520961\n",
            "-0.11019222847668209\n"
          ],
          "name": "stdout"
        }
      ]
    },
    {
      "cell_type": "markdown",
      "metadata": {
        "id": "BLoFcIzcG_sZ"
      },
      "source": [
        "Interpretations\n",
        "\n",
        "#my r2 should be zero becouse it is a baseline with zero features but for some reason it is -0.11"
      ]
    },
    {
      "cell_type": "markdown",
      "metadata": {
        "id": "cIhu4fDbv7S5"
      },
      "source": [
        "#may be i will plot or visualize the stock price variance based on sectors here"
      ]
    }
  ]
}